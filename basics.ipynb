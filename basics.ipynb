{
 "cells": [
  {
   "cell_type": "code",
   "execution_count": 70,
   "metadata": {},
   "outputs": [
    {
     "data": {
      "text/html": [
       "0.3696"
      ],
      "text/latex": [
       "0.3696"
      ],
      "text/markdown": [
       "0.3696"
      ],
      "text/plain": [
       "[1] 0.3696"
      ]
     },
     "metadata": {},
     "output_type": "display_data"
    }
   ],
   "source": [
    "# Hat Check Problem\n",
    "\n",
    "# A hat-check girl completely loses track of which of n hats belong to which owners, and hands them back at random to their n owners as the latter leave.\n",
    "# What is the probability pn that nobody receives their own hat back?\n",
    "\n",
    "hatCheck <- function(numberOfHats) {\n",
    "    original <- seq(numberOfHats)\n",
    "    shuffled <- sample(original)\n",
    "    return (sum(original == shuffled))\n",
    "}\n",
    "\n",
    "hatCheckMain <- function(numberOfExperiments, numberOfHats) {\n",
    "    return (mean(replicate(numberOfExperiments, hatCheck(numberOfHats)) == 0))\n",
    "}\n",
    "\n",
    "hatCheckMain(10000, 100)"
   ]
  },
  {
   "cell_type": "code",
   "execution_count": 69,
   "metadata": {},
   "outputs": [
    {
     "data": {
      "text/html": [
       "0"
      ],
      "text/latex": [
       "0"
      ],
      "text/markdown": [
       "0"
      ],
      "text/plain": [
       "[1] 0"
      ]
     },
     "metadata": {},
     "output_type": "display_data"
    }
   ],
   "source": [
    "# Coupon Collector's Problem\n",
    "\n",
    "# If each box of a brand of cereals contains a coupon, and there are n different types of coupons,\n",
    "# what is the probability that more than t boxes need to be bought to collect all n coupons?\n",
    "\n",
    "couponCollector <- function(numberOfCouponTypes, maxNumberOfCouponsCollected) {\n",
    "    if (maxNumberOfCouponsCollected < numberOfCouponTypes) {  \n",
    "        return (FALSE)\n",
    "    }\n",
    "    \n",
    "    allCoupons <- seq(numberOfCouponTypes)\n",
    "    collected <- c()\n",
    "    \n",
    "    for (i in maxNumberOfCouponsCollected) {\n",
    "        coupon <- sample(allCoupons, size=1)\n",
    "        if(!(coupon %in% collected)) {\n",
    "            append(collected, c(coupon))\n",
    "        }\n",
    "        if (length(collected) == numberOfCouponTypes) {\n",
    "            break\n",
    "        }\n",
    "    }\n",
    "    \n",
    "    return (length(collected) == numberOfCouponTypes)\n",
    "}\n",
    "\n",
    "couponCollectorMain <- function(numberOfExperiments, numberOfCouponTypes, maxNumberOfCouponsCollected) {\n",
    "    return (sum(replicate(numberOfExperiments, couponCollector(numberOfCouponTypes, maxNumberOfCouponsCollected))))\n",
    "}\n",
    "\n",
    "couponCollectorMain(10000, 20, 200)"
   ]
  }
 ],
 "metadata": {
  "kernelspec": {
   "display_name": "R",
   "language": "R",
   "name": "ir"
  },
  "language_info": {
   "codemirror_mode": "r",
   "file_extension": ".r",
   "mimetype": "text/x-r-source",
   "name": "R",
   "pygments_lexer": "r",
   "version": "4.0.0"
  }
 },
 "nbformat": 4,
 "nbformat_minor": 4
}
